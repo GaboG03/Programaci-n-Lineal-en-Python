{
 "cells": [
  {
   "cell_type": "code",
   "execution_count": 1,
   "id": "135874e9",
   "metadata": {},
   "outputs": [],
   "source": [
    "import numpy as np\n",
    "import pandas as pd"
   ]
  },
  {
   "cell_type": "code",
   "execution_count": 2,
   "id": "98859739",
   "metadata": {},
   "outputs": [
    {
     "data": {
      "text/html": [
       "<div>\n",
       "<style scoped>\n",
       "    .dataframe tbody tr th:only-of-type {\n",
       "        vertical-align: middle;\n",
       "    }\n",
       "\n",
       "    .dataframe tbody tr th {\n",
       "        vertical-align: top;\n",
       "    }\n",
       "\n",
       "    .dataframe thead th {\n",
       "        text-align: right;\n",
       "    }\n",
       "</style>\n",
       "<table border=\"1\" class=\"dataframe\">\n",
       "  <thead>\n",
       "    <tr style=\"text-align: right;\">\n",
       "      <th></th>\n",
       "      <th>Producto</th>\n",
       "      <th>Categoría</th>\n",
       "      <th>Artículo</th>\n",
       "      <th>Peso</th>\n",
       "      <th>Energia</th>\n",
       "      <th>Proteina</th>\n",
       "      <th>Grasa</th>\n",
       "      <th>Carbohidratos</th>\n",
       "      <th>Precio</th>\n",
       "      <th>Porcion</th>\n",
       "    </tr>\n",
       "  </thead>\n",
       "  <tbody>\n",
       "    <tr>\n",
       "      <th>0</th>\n",
       "      <td>1. Alimentos feculentos</td>\n",
       "      <td>Alimentos feculentos</td>\n",
       "      <td>Amaranto crudo</td>\n",
       "      <td>42</td>\n",
       "      <td>120.0</td>\n",
       "      <td>3.2</td>\n",
       "      <td>1.3</td>\n",
       "      <td>23.8</td>\n",
       "      <td>0.707693</td>\n",
       "      <td>5</td>\n",
       "    </tr>\n",
       "    <tr>\n",
       "      <th>1</th>\n",
       "      <td>1. Alimentos feculentos</td>\n",
       "      <td>Alimentos feculentos</td>\n",
       "      <td>Arroz blanco</td>\n",
       "      <td>88</td>\n",
       "      <td>120.0</td>\n",
       "      <td>3.2</td>\n",
       "      <td>1.3</td>\n",
       "      <td>23.8</td>\n",
       "      <td>0.113441</td>\n",
       "      <td>5</td>\n",
       "    </tr>\n",
       "    <tr>\n",
       "      <th>2</th>\n",
       "      <td>1. Alimentos feculentos</td>\n",
       "      <td>Alimentos feculentos</td>\n",
       "      <td>Arroz integral</td>\n",
       "      <td>88</td>\n",
       "      <td>120.0</td>\n",
       "      <td>3.2</td>\n",
       "      <td>1.3</td>\n",
       "      <td>23.8</td>\n",
       "      <td>0.140235</td>\n",
       "      <td>5</td>\n",
       "    </tr>\n",
       "    <tr>\n",
       "      <th>3</th>\n",
       "      <td>1. Alimentos feculentos</td>\n",
       "      <td>Alimentos feculentos</td>\n",
       "      <td>Avena cruda (hojuelas)</td>\n",
       "      <td>38</td>\n",
       "      <td>120.0</td>\n",
       "      <td>3.2</td>\n",
       "      <td>1.3</td>\n",
       "      <td>23.8</td>\n",
       "      <td>0.079724</td>\n",
       "      <td>5</td>\n",
       "    </tr>\n",
       "    <tr>\n",
       "      <th>4</th>\n",
       "      <td>1. Alimentos feculentos</td>\n",
       "      <td>Alimentos feculentos</td>\n",
       "      <td>Avena molida quaker cruda</td>\n",
       "      <td>35</td>\n",
       "      <td>120.0</td>\n",
       "      <td>3.2</td>\n",
       "      <td>1.3</td>\n",
       "      <td>23.8</td>\n",
       "      <td>0.072310</td>\n",
       "      <td>5</td>\n",
       "    </tr>\n",
       "  </tbody>\n",
       "</table>\n",
       "</div>"
      ],
      "text/plain": [
       "                  Producto             Categoría                    Artículo  \\\n",
       "0  1. Alimentos feculentos  Alimentos feculentos             Amaranto crudo    \n",
       "1  1. Alimentos feculentos  Alimentos feculentos                Arroz blanco   \n",
       "2  1. Alimentos feculentos  Alimentos feculentos              Arroz integral   \n",
       "3  1. Alimentos feculentos  Alimentos feculentos     Avena cruda (hojuelas)    \n",
       "4  1. Alimentos feculentos  Alimentos feculentos  Avena molida quaker cruda    \n",
       "\n",
       "   Peso  Energia  Proteina  Grasa  Carbohidratos    Precio  Porcion  \n",
       "0    42    120.0       3.2    1.3           23.8  0.707693        5  \n",
       "1    88    120.0       3.2    1.3           23.8  0.113441        5  \n",
       "2    88    120.0       3.2    1.3           23.8  0.140235        5  \n",
       "3    38    120.0       3.2    1.3           23.8  0.079724        5  \n",
       "4    35    120.0       3.2    1.3           23.8  0.072310        5  "
      ]
     },
     "execution_count": 2,
     "metadata": {},
     "output_type": "execute_result"
    }
   ],
   "source": [
    "dfdatos = pd.read_excel('tomas_finales_2.xlsx',sheet_name='lista_productos')\n",
    "dfdatos = dfdatos.iloc[:,0:10]\n",
    "dfdatos.dropna(inplace=True)\n",
    "dfdatos.rename(columns={'Precio promedio en dólares del peso referido en columna D':'Precio', 'Peso (g) ':'Peso','Energía (Kcal) ':'Energia','Proteína (g) ':'Proteina','Grasa (g) ':'Grasa','Carbohidrato (g)':'Carbohidratos'},inplace=True)\n",
    "dfdatos.head(5) "
   ]
  },
  {
   "cell_type": "code",
   "execution_count": 3,
   "id": "b26e0bf0",
   "metadata": {},
   "outputs": [],
   "source": [
    "Alimento = list(dfdatos[\"Artículo\"] )\n",
    "# print(Alimento)"
   ]
  },
  {
   "cell_type": "code",
   "execution_count": 4,
   "id": "a9c57833",
   "metadata": {},
   "outputs": [],
   "source": [
    "## Tupla: \n",
    "L = []\n",
    "\n",
    "for i in dfdatos.index:\n",
    "    L.append((dfdatos[\"Energia\"][i],dfdatos[\"Proteina\"][i],dfdatos[\"Grasa\"][i],dfdatos[\"Carbohidratos\"][i],dfdatos[\"Precio\"][i],dfdatos[\"Porcion\"][i],dfdatos[\"Categoría\"][i] ))\n",
    "    \n",
    "# print(L)"
   ]
  },
  {
   "cell_type": "code",
   "execution_count": 5,
   "id": "04666500",
   "metadata": {},
   "outputs": [],
   "source": [
    "# energia, proteina, grasa, carbohidrato,precio,porcion,grupo)\n",
    "datos_alimentos = zip( Alimento,L )\n",
    "datos_alimentos = dict(datos_alimentos)\n",
    "# print(datos_alimentos)"
   ]
  },
  {
   "cell_type": "code",
   "execution_count": 6,
   "id": "4057cc3e",
   "metadata": {},
   "outputs": [],
   "source": [
    "# Representación de la relación entre alimento y grupo: 1 si el alimento i pertenece al grupo j, 0 caso contrario. \n",
    "\n",
    "L1 = []\n",
    "L2 = []\n",
    "\n",
    "for i in list(dfdatos.index):\n",
    "    for j in list(dfdatos.index):\n",
    "        L1.append( (dfdatos[\"Artículo\"][i],dfdatos[\"Categoría\"][j]))"
   ]
  },
  {
   "cell_type": "code",
   "execution_count": 7,
   "id": "09502abd",
   "metadata": {},
   "outputs": [],
   "source": [
    "L1 = list(set(L1))\n",
    "# print(L1)"
   ]
  },
  {
   "cell_type": "code",
   "execution_count": 8,
   "id": "3a6c4f01",
   "metadata": {},
   "outputs": [],
   "source": [
    "Cereal = []\n",
    "Azucar = []\n",
    "Carnes = []\n",
    "Frutas = []\n",
    "Grasas = []\n",
    "Lacteos = []\n",
    "Legum = []\n",
    "Pescados = []\n",
    "Vegetales = []\n",
    "\n",
    "for i in list(dfdatos.index):\n",
    "    if( dfdatos[\"Categoría\"][i]==\"Alimentos feculentos\"):\n",
    "        Cereal.append( dfdatos[\"Artículo\"][i] )\n",
    "    elif(dfdatos[\"Categoría\"][i]==\"Azucares\"):\n",
    "        Azucar.append( dfdatos[\"Artículo\"][i] )\n",
    "    elif(dfdatos[\"Categoría\"][i]==\"Carnes \"):\n",
    "        Carnes.append( dfdatos[\"Artículo\"][i] )\n",
    "    elif(dfdatos[\"Categoría\"][i]==\"Frutas\"):\n",
    "        Frutas.append( dfdatos[\"Artículo\"][i] )\n",
    "    elif(dfdatos[\"Categoría\"][i]==\"Grasas\"):\n",
    "        Grasas.append( dfdatos[\"Artículo\"][i] )\n",
    "    elif(dfdatos[\"Categoría\"][i]==\"Lacteos\"):\n",
    "        Lacteos.append( dfdatos[\"Artículo\"][i] )\n",
    "    elif(dfdatos[\"Categoría\"][i]==\"Leguminosas secas cocidas \"):\n",
    "        Legum.append( dfdatos[\"Artículo\"][i] )\n",
    "    elif(dfdatos[\"Categoría\"][i]==\"Pescados\"):\n",
    "        Pescados.append( dfdatos[\"Artículo\"][i] )\n",
    "    else: \n",
    "        Vegetales.append( dfdatos[\"Artículo\"][i] )"
   ]
  },
  {
   "cell_type": "code",
   "execution_count": 9,
   "id": "d683366b",
   "metadata": {},
   "outputs": [],
   "source": [
    "for i in L1: \n",
    "    if i[1] == \"Alimentos feculentos\": \n",
    "        if i[0] in Cereal: \n",
    "            L2.append(1)\n",
    "        else: \n",
    "            L2.append(0)\n",
    "    elif i[1] == \"Azucares\": \n",
    "        if i[0] in Azucar: \n",
    "            L2.append(1)\n",
    "        else: \n",
    "            L2.append(0)\n",
    "    elif i[1] == \"Carnes \": \n",
    "        if i[0] in Carnes: \n",
    "            L2.append(1)\n",
    "        else: \n",
    "            L2.append(0)\n",
    "    elif i[1] == \"Frutas\": \n",
    "        if i[0] in Frutas: \n",
    "            L2.append(1)\n",
    "        else: \n",
    "            L2.append(0)\n",
    "    elif i[1] == \"Grasas\": \n",
    "        if i[0] in Grasas: \n",
    "            L2.append(1)\n",
    "        else: \n",
    "            L2.append(0)\n",
    "    elif i[1] == \"Lacteos\": \n",
    "        if i[0] in Lacteos: \n",
    "            L2.append(1)\n",
    "        else: \n",
    "            L2.append(0)\n",
    "    elif i[1] == \"Leguminosas secas cocidas \": \n",
    "        if i[0] in Legum: \n",
    "            L2.append(1)\n",
    "        else: \n",
    "            L2.append(0)\n",
    "    elif i[1] == \"Pescados\": \n",
    "        if i[0] in Pescados: \n",
    "            L2.append(1)\n",
    "        else: \n",
    "            L2.append(0)\n",
    "    else: \n",
    "        if i[0] in Vegetales: \n",
    "            L2.append(1)\n",
    "        else: \n",
    "            L2.append(0)"
   ]
  },
  {
   "cell_type": "code",
   "execution_count": 10,
   "id": "0118d3d1",
   "metadata": {},
   "outputs": [
    {
     "name": "stdout",
     "output_type": "stream",
     "text": [
      "2142\n",
      "2142\n"
     ]
    }
   ],
   "source": [
    "print(len(L1))\n",
    "print(len(L2))"
   ]
  },
  {
   "cell_type": "code",
   "execution_count": 11,
   "id": "262db2d2",
   "metadata": {},
   "outputs": [
    {
     "data": {
      "text/plain": [
       "238"
      ]
     },
     "execution_count": 11,
     "metadata": {},
     "output_type": "execute_result"
    }
   ],
   "source": [
    "# print(L2)\n",
    "sum(L2)"
   ]
  },
  {
   "cell_type": "code",
   "execution_count": 12,
   "id": "ae029c5c",
   "metadata": {},
   "outputs": [],
   "source": [
    "from gurobipy import *"
   ]
  },
  {
   "cell_type": "code",
   "execution_count": 13,
   "id": "62616858",
   "metadata": {},
   "outputs": [
    {
     "name": "stdout",
     "output_type": "stream",
     "text": [
      "Academic license - for non-commercial use only - expires 2022-01-17\n",
      "Using license file C:\\Users\\GABRIEL\\gurobi.lic\n"
     ]
    }
   ],
   "source": [
    "m = Model('Problema_de_la_dieta')"
   ]
  },
  {
   "cell_type": "code",
   "execution_count": 14,
   "id": "bd943d80",
   "metadata": {},
   "outputs": [],
   "source": [
    "asig_grupo = zip(L1,L2)\n",
    "asig_grupo = dict(asig_grupo)\n",
    "# print(asig_grupo)"
   ]
  },
  {
   "cell_type": "code",
   "execution_count": 15,
   "id": "135676c4",
   "metadata": {},
   "outputs": [],
   "source": [
    "asig_grupo =tupledict(asig_grupo)\n",
    "# print(asig_grupo)"
   ]
  },
  {
   "cell_type": "code",
   "execution_count": 16,
   "id": "f8a266c5",
   "metadata": {},
   "outputs": [
    {
     "name": "stdout",
     "output_type": "stream",
     "text": [
      "{'Leguminosas secas cocidas ': (1, 3), 'Azucares': (1, 4), 'Pescados': (1, 3), 'Carnes ': (1, 2), 'Grasas': (1, 4), 'Lacteos': (1, 6), 'Alimentos feculentos': (1, 3), 'Vegetales': (1, 4), 'Frutas': (1, 3)}\n"
     ]
    }
   ],
   "source": [
    "porciones_grupo = {'Leguminosas secas cocidas ' : (1,3),'Azucares' : (1,4), \n",
    "         'Pescados' : (1,3),'Carnes ' : (1,2), 'Grasas':(1,4) ,'Lacteos':(1,6), \n",
    "        'Alimentos feculentos':(1,3), 'Vegetales':(1,4), 'Frutas':(1,3) }\n",
    "print(porciones_grupo)"
   ]
  },
  {
   "cell_type": "code",
   "execution_count": 17,
   "id": "f04c9cd5",
   "metadata": {},
   "outputs": [],
   "source": [
    "# Extraccion del conjunto de alimentos\n",
    "I, energia, proteinas, grasa, carbohidrato, precio ,porcion, grupo = multidict(datos_alimentos)"
   ]
  },
  {
   "cell_type": "code",
   "execution_count": 18,
   "id": "b90f8ee0",
   "metadata": {},
   "outputs": [
    {
     "name": "stdout",
     "output_type": "stream",
     "text": [
      "['Grasas', 'Lacteos', 'Frutas', 'Azucares', 'Leguminosas secas cocidas ', 'Carnes ', 'Vegetales', 'Pescados', 'Alimentos feculentos']\n"
     ]
    }
   ],
   "source": [
    "J=list(set(grupo.values()))\n",
    "print(J)"
   ]
  },
  {
   "cell_type": "code",
   "execution_count": 19,
   "id": "e4105c3a",
   "metadata": {},
   "outputs": [],
   "source": [
    "# cota inferior los alimentos no deben exceder la cantidad maxima \n",
    "x = m.addVars(I, vtype = GRB.INTEGER, name=\"x\",ub=porcion)\n",
    "m.setObjective(x.prod(precio,'*'), GRB.MINIMIZE)"
   ]
  },
  {
   "cell_type": "code",
   "execution_count": 20,
   "id": "1d931443",
   "metadata": {},
   "outputs": [
    {
     "data": {
      "text/plain": [
       "<gurobi.Constr *Awaiting Model Update*>"
      ]
     },
     "execution_count": 20,
     "metadata": {},
     "output_type": "execute_result"
    }
   ],
   "source": [
    "m.addConstr(x.prod(energia,'*') >= 14000, \"req_ener\")"
   ]
  },
  {
   "cell_type": "code",
   "execution_count": 21,
   "id": "5b191225",
   "metadata": {},
   "outputs": [
    {
     "data": {
      "text/plain": [
       "<gurobi.Constr *Awaiting Model Update*>"
      ]
     },
     "execution_count": 21,
     "metadata": {},
     "output_type": "execute_result"
    }
   ],
   "source": [
    "m.addConstr(x.prod(proteinas,'*')>= 630, \"req_prot\")"
   ]
  },
  {
   "cell_type": "code",
   "execution_count": 22,
   "id": "02f44139",
   "metadata": {},
   "outputs": [
    {
     "data": {
      "text/plain": [
       "<gurobi.Constr *Awaiting Model Update*>"
      ]
     },
     "execution_count": 22,
     "metadata": {},
     "output_type": "execute_result"
    }
   ],
   "source": [
    "m.addConstr(x.prod(grasa,'*') >= 420, \"req_grasa\")"
   ]
  },
  {
   "cell_type": "code",
   "execution_count": 23,
   "id": "b35b2a9d",
   "metadata": {},
   "outputs": [
    {
     "data": {
      "text/plain": [
       "<gurobi.Constr *Awaiting Model Update*>"
      ]
     },
     "execution_count": 23,
     "metadata": {},
     "output_type": "execute_result"
    }
   ],
   "source": [
    "m.addConstr(x.prod(carbohidrato,'*') >= 910, \"req_carb\")"
   ]
  },
  {
   "cell_type": "code",
   "execution_count": 24,
   "id": "5766fce6",
   "metadata": {},
   "outputs": [
    {
     "data": {
      "text/plain": [
       "<gurobi.Constr *Awaiting Model Update*>"
      ]
     },
     "execution_count": 24,
     "metadata": {},
     "output_type": "execute_result"
    }
   ],
   "source": [
    "m.addConstr( (quicksum( x[i] for i in Lacteos  ) <=15   ), \"porc_max_lac\" )\n",
    "m.addConstr( (quicksum( x[i] for i in Lacteos  ) >=10   ), \"porc_min_lac\" )"
   ]
  },
  {
   "cell_type": "code",
   "execution_count": 25,
   "id": "418f44ab",
   "metadata": {},
   "outputs": [
    {
     "data": {
      "text/plain": [
       "<gurobi.Constr *Awaiting Model Update*>"
      ]
     },
     "execution_count": 25,
     "metadata": {},
     "output_type": "execute_result"
    }
   ],
   "source": [
    "m.addConstr( (quicksum( x[i] for i in Pescados  ) <= 15   ), \"porc_max_pes\" )\n",
    "m.addConstr( (quicksum( x[i] for i in Pescados ) >=5   ), \"porc_min_pes\" )"
   ]
  },
  {
   "cell_type": "code",
   "execution_count": 26,
   "id": "14d8ec73",
   "metadata": {},
   "outputs": [
    {
     "data": {
      "text/plain": [
       "<gurobi.Constr *Awaiting Model Update*>"
      ]
     },
     "execution_count": 26,
     "metadata": {},
     "output_type": "execute_result"
    }
   ],
   "source": [
    "m.addConstr( (quicksum( x[i] for i in Carnes ) <=15   ), \"porc_max_car\" )\n",
    "m.addConstr( (quicksum( x[i] for i in Carnes  ) >=10   ), \"porc_min_car\" )"
   ]
  },
  {
   "cell_type": "code",
   "execution_count": 27,
   "id": "fba66ccf",
   "metadata": {},
   "outputs": [
    {
     "data": {
      "text/plain": [
       "<gurobi.Constr *Awaiting Model Update*>"
      ]
     },
     "execution_count": 27,
     "metadata": {},
     "output_type": "execute_result"
    }
   ],
   "source": [
    "## Vegetales = [] Frutas = []\n",
    "m.addConstr( (quicksum( x[i] for i in Vegetales  ) >=5), \"porc_min_veg\" )\n",
    "m.addConstr( (quicksum( x[i] for i in Frutas ) >=5), \"porc_min_frut\" )"
   ]
  },
  {
   "cell_type": "code",
   "execution_count": 28,
   "id": "2d5d091d",
   "metadata": {},
   "outputs": [
    {
     "data": {
      "text/plain": [
       "<gurobi.Constr *Awaiting Model Update*>"
      ]
     },
     "execution_count": 28,
     "metadata": {},
     "output_type": "execute_result"
    }
   ],
   "source": [
    "m.addConstr( (quicksum( x[i] for i in Azucar  ) <= 5   ), \"porc_max_azu\" )"
   ]
  },
  {
   "cell_type": "code",
   "execution_count": 29,
   "id": "89ee0b82",
   "metadata": {},
   "outputs": [
    {
     "data": {
      "text/plain": [
       "<gurobi.Constr *Awaiting Model Update*>"
      ]
     },
     "execution_count": 29,
     "metadata": {},
     "output_type": "execute_result"
    }
   ],
   "source": [
    "m.addConstr( (quicksum( x[i] for i in Grasas ) <=10   ), \"porc_max_car\" )"
   ]
  },
  {
   "cell_type": "code",
   "execution_count": 30,
   "id": "a20a0fd9",
   "metadata": {},
   "outputs": [],
   "source": [
    "# m.computeIIS() "
   ]
  },
  {
   "cell_type": "code",
   "execution_count": 31,
   "id": "1f4a7545",
   "metadata": {},
   "outputs": [
    {
     "name": "stdout",
     "output_type": "stream",
     "text": [
      "Gurobi Optimizer version 9.1.2 build v9.1.2rc0 (win64)\n",
      "Thread count: 4 physical cores, 8 logical processors, using up to 8 threads\n",
      "Optimize a model with 14 rows, 238 columns and 1174 nonzeros\n",
      "Model fingerprint: 0x44b50172\n",
      "Variable types: 0 continuous, 238 integer (0 binary)\n",
      "Coefficient statistics:\n",
      "  Matrix range     [1e-01, 1e+02]\n",
      "  Objective range  [1e-02, 2e+00]\n",
      "  Bounds range     [5e+00, 5e+00]\n",
      "  RHS range        [5e+00, 1e+04]\n",
      "Found heuristic solution: objective 131.6993615\n",
      "Presolve added 1 rows and 0 columns\n",
      "Presolve removed 0 rows and 24 columns\n",
      "Presolve time: 0.00s\n",
      "Presolved: 15 rows, 214 columns, 812 nonzeros\n",
      "Variable types: 0 continuous, 214 integer (0 binary)\n",
      "\n",
      "Root relaxation: objective 1.429874e+01, 25 iterations, 0.00 seconds\n",
      "\n",
      "    Nodes    |    Current Node    |     Objective Bounds      |     Work\n",
      " Expl Unexpl |  Obj  Depth IntInf | Incumbent    BestBd   Gap | It/Node Time\n",
      "\n",
      "     0     0   14.29874    0    5  131.69936   14.29874  89.1%     -    0s\n",
      "H    0     0                      14.4278359   14.29874  0.89%     -    0s\n",
      "H    0     0                      14.4014593   14.29874  0.71%     -    0s\n",
      "H    0     0                      14.3486728   14.29874  0.35%     -    0s\n",
      "     0     0   14.31133    0    5   14.34867   14.31133  0.26%     -    0s\n",
      "     0     0   14.31133    0    5   14.34867   14.31133  0.26%     -    0s\n",
      "     0     0   14.31161    0    5   14.34867   14.31161  0.26%     -    0s\n",
      "H    0     0                      14.3484923   14.31161  0.26%     -    0s\n",
      "     0     0   14.31280    0    6   14.34849   14.31280  0.25%     -    0s\n",
      "H    0     0                      14.3400658   14.31280  0.19%     -    0s\n",
      "     0     0   14.31664    0    5   14.34007   14.31664  0.16%     -    0s\n",
      "     0     0   14.31896    0    7   14.34007   14.31896  0.15%     -    0s\n",
      "     0     0   14.31896    0    9   14.34007   14.31896  0.15%     -    0s\n",
      "     0     0   14.31896    0    9   14.34007   14.31896  0.15%     -    0s\n",
      "     0     0   14.32349    0   10   14.34007   14.32349  0.12%     -    0s\n",
      "H    0     0                      14.3398853   14.32481  0.11%     -    0s\n",
      "     0     0   14.32817    0    9   14.33989   14.32817  0.08%     -    0s\n",
      "     0     0   14.32872    0    9   14.33989   14.32872  0.08%     -    0s\n",
      "     0     0   14.33139    0   10   14.33989   14.33139  0.06%     -    0s\n",
      "\n",
      "Cutting planes:\n",
      "  Gomory: 2\n",
      "  MIR: 6\n",
      "  StrongCG: 1\n",
      "\n",
      "Explored 1 nodes (56 simplex iterations) in 0.05 seconds\n",
      "Thread count was 8 (of 8 available processors)\n",
      "\n",
      "Solution count 7: 14.3399 14.3401 14.3485 ... 131.699\n",
      "\n",
      "Optimal solution found (tolerance 1.00e-04)\n",
      "Best objective 1.433988533520e+01, best bound 1.433988533520e+01, gap 0.0000%\n"
     ]
    }
   ],
   "source": [
    "# m.optimize()\n",
    "# m.feasRelaxS(1,True,False,True)\n",
    "m.optimize()"
   ]
  },
  {
   "cell_type": "code",
   "execution_count": 34,
   "id": "0b24ac5b",
   "metadata": {},
   "outputs": [
    {
     "name": "stdout",
     "output_type": "stream",
     "text": [
      "Alimento\t Porción\n",
      "------------------------\n",
      "5.0\t\n",
      "5.0\t\n",
      "5.0\t\n",
      "5.0\t\n",
      "5.0\t\n",
      "5.0\t\n",
      "5.0\t\n",
      "5.0\t\n",
      "5.0\t\n",
      "3.0\t\n",
      "5.0\t\n",
      "1.0\t\n",
      "5.0\t\n",
      "5.0\t\n",
      "5.0\t\n",
      "5.0\t\n",
      "5.0\t\n",
      "5.0\t\n",
      "5.0\t\n",
      "5.0\t\n",
      "5.0\t\n",
      "5.0\t\n",
      "5.0\t\n",
      "5.0\t\n",
      "5.0\t\n",
      "4.0\t\n",
      "4.0\t\n",
      "2.0\t\n",
      "1.0\t\n",
      "4.0\t\n",
      "Valor optimo: 14.33988533520261\n"
     ]
    }
   ],
   "source": [
    "print('Alimento\\t Porción')\n",
    "print('------------------------')\n",
    "for i in I:\n",
    "    if x[i].x > 0:\n",
    "        #print('{}\\t\\t {}'.format(i,x[i].x))\n",
    "        # \n",
    "        print('{}\\t'.format(x[i].x))\n",
    "# Valor de la funcion objetivo\n",
    "print('Valor optimo: {}'.format(m.objVal))"
   ]
  }
 ],
 "metadata": {
  "kernelspec": {
   "display_name": "Python 3",
   "language": "python",
   "name": "python3"
  },
  "language_info": {
   "codemirror_mode": {
    "name": "ipython",
    "version": 3
   },
   "file_extension": ".py",
   "mimetype": "text/x-python",
   "name": "python",
   "nbconvert_exporter": "python",
   "pygments_lexer": "ipython3",
   "version": "3.8.8"
  }
 },
 "nbformat": 4,
 "nbformat_minor": 5
}
